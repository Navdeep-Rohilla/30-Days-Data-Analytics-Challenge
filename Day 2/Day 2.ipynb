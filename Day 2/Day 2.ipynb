{
 "cells": [
  {
   "cell_type": "markdown",
   "id": "6653e276-d51d-4fbe-97f7-5c0e0188b364",
   "metadata": {},
   "source": [
    "# Variables & Data Types : \n"
   ]
  },
  {
   "cell_type": "markdown",
   "id": "c69b7e75-e351-4811-81c4-6ffe849c09a5",
   "metadata": {},
   "source": [
    "## Variables & Operators"
   ]
  },
  {
   "cell_type": "markdown",
   "id": "77530963-fb71-4ed1-8391-1492a3760c96",
   "metadata": {},
   "source": [
    " Python Variable is container that store values. Python is not \"statically typed\". We do not need to declare variables before using them to declare thier type. A variable is created the moment we first assign a value to it. A python variable is a name given to a memory location. it is the Basic unit of Storage in a program.\n",
    "\n",
    "### Variable Names :\n",
    "\n",
    "A variable name can have a short name (like x and y) or more descriptive name (age , carname, total_volume). Rules for python variables:\n",
    "- A variable name must start with a letter or underscore character.\n",
    "- A variable name cannot start with a number.\n",
    "- A variable name can only contain alpha-numeric characters and underscores.\n",
    "- Variable names are case sensitive.\n",
    "- A variable name cannot be any of the python keyword.\n",
    "\n",
    "### Creating variables :\n",
    "Python has no command for declaring a variable.\n",
    "\n",
    "A variable is created the moment you assign a value to it.\n",
    "\n",
    "Example x = 5 , \n",
    "y = \"john\" ,\n",
    "print(x) , \n",
    "print(y) ,"
   ]
  },
  {
   "cell_type": "code",
   "execution_count": 14,
   "id": "86a362f4-93ed-4810-bae7-58f746e4c28e",
   "metadata": {},
   "outputs": [
    {
     "name": "stdout",
     "output_type": "stream",
     "text": [
      "5\n",
      "Navdeep\n"
     ]
    }
   ],
   "source": [
    "x = 5\n",
    "y = \"Navdeep\"\n",
    "print(x)\n",
    "print(y)"
   ]
  },
  {
   "cell_type": "code",
   "execution_count": 9,
   "id": "76affc7e-f1c0-455f-8a86-b58acc7567fc",
   "metadata": {},
   "outputs": [
    {
     "name": "stdout",
     "output_type": "stream",
     "text": [
      "Orange\n",
      "Red\n",
      "Yellow\n"
     ]
    }
   ],
   "source": [
    "# Many values to multiple variables\n",
    "# - Python allows you to assign values to multiple variables in one line\n",
    "\n",
    "x , y , z = \"Orange\" , \"Red\" , \"Yellow\"\n",
    "print(x)\n",
    "print(y)\n",
    "print(z)"
   ]
  },
  {
   "cell_type": "markdown",
   "id": "219dcc4b-bc84-4095-a7dc-b69d70f5ab9e",
   "metadata": {},
   "source": [
    "### Python Output Variables"
   ]
  },
  {
   "cell_type": "code",
   "execution_count": 12,
   "id": "2fe4a866-6845-4b49-886e-3431b8592b9e",
   "metadata": {},
   "outputs": [
    {
     "name": "stdout",
     "output_type": "stream",
     "text": [
      "Python is amazing\n",
      "\n",
      "Python\n",
      "is\n",
      "amazing\n"
     ]
    }
   ],
   "source": [
    "x = \"Python\"\n",
    "y = \"is\"\n",
    "z = \"amazing\"\n",
    "print(x , y , z)\n",
    "print()\n",
    "print(x)\n",
    "print(y)\n",
    "print(z)"
   ]
  },
  {
   "cell_type": "markdown",
   "id": "0a972d6b-9565-420f-8247-4364bd09fab1",
   "metadata": {},
   "source": [
    "### Data Types :\n",
    "Variables can store of diffrent types , and diffrent types can do diffrent. Python has the following data types built in by default , in these categories: \n",
    "- Text type : str\n",
    "- Numeric types : int , float , complex\n",
    "- Sequence Types : list , tuple , range\n",
    "- Mapping Type : dict\n",
    "- Set Types : set , frozenset\n",
    "- Boolean Type : bool\n",
    "- Binary Trees : bytes , bytearray , memoryview"
   ]
  },
  {
   "cell_type": "markdown",
   "id": "56576b98-ca36-4f02-85e8-1cad82f45279",
   "metadata": {},
   "source": [
    "## Data Types :\n",
    "\n"
   ]
  },
  {
   "cell_type": "code",
   "execution_count": 20,
   "id": "e4c11052-4c7c-4d81-b818-a37614ca71a9",
   "metadata": {},
   "outputs": [
    {
     "name": "stdout",
     "output_type": "stream",
     "text": [
      "2\n",
      "<class 'int'>\n"
     ]
    }
   ],
   "source": [
    "x = 2 \n",
    "print(x)\n",
    "print(type(x))"
   ]
  },
  {
   "cell_type": "code",
   "execution_count": 22,
   "id": "5aeeb3f6-413d-4e39-8a72-c18693bdae05",
   "metadata": {},
   "outputs": [
    {
     "name": "stdout",
     "output_type": "stream",
     "text": [
      "4.5\n",
      "<class 'float'>\n"
     ]
    }
   ],
   "source": [
    "y = 4.5\n",
    "print(y)\n",
    "print(type(y))"
   ]
  },
  {
   "cell_type": "code",
   "execution_count": 24,
   "id": "c0704ae5-941f-410f-969c-22edf7309087",
   "metadata": {},
   "outputs": [
    {
     "name": "stdout",
     "output_type": "stream",
     "text": [
      "Navdeep\n",
      "<class 'str'>\n"
     ]
    }
   ],
   "source": [
    "z = \"Navdeep\"\n",
    "print(z)\n",
    "print(type(z))"
   ]
  },
  {
   "cell_type": "code",
   "execution_count": 26,
   "id": "c808605b-e25c-4b2f-8627-966bb4b89503",
   "metadata": {},
   "outputs": [
    {
     "name": "stdout",
     "output_type": "stream",
     "text": [
      "(2+5j)\n",
      "<class 'complex'>\n"
     ]
    }
   ],
   "source": [
    "a = 2 + 5j\n",
    "print(a)\n",
    "print(type(a))"
   ]
  },
  {
   "cell_type": "code",
   "execution_count": 28,
   "id": "8b64ccf3-550c-4f1c-9b37-3815f78c1507",
   "metadata": {},
   "outputs": [
    {
     "name": "stdout",
     "output_type": "stream",
     "text": [
      "(1, 2, 3, 4, 5, 6, 7, 8, 9)\n",
      "<class 'tuple'>\n"
     ]
    }
   ],
   "source": [
    "b = (1,2,3,4,5,6,7,8,9)\n",
    "print(b)\n",
    "print(type(b))"
   ]
  },
  {
   "cell_type": "code",
   "execution_count": null,
   "id": "0dc4ef40-a79f-4278-977e-b71c09ef7897",
   "metadata": {},
   "outputs": [],
   "source": [
    "c = [1,2,3,4,5,6]\n",
    "print(c)\n",
    "print(type(c))"
   ]
  },
  {
   "cell_type": "code",
   "execution_count": 34,
   "id": "8d6c218a-1f59-4de8-9b2a-63c0385672e7",
   "metadata": {},
   "outputs": [
    {
     "name": "stdout",
     "output_type": "stream",
     "text": [
      "Variable               Type        Data/Info\n",
      "--------------------------------------------\n",
      "a                      complex     (2+5j)\n",
      "b                      tuple       n=9\n",
      "c                      list        n=6\n",
      "dataframe_columns      function    <function dataframe_colum<...>ns at 0x000001FBF4BEDF80>\n",
      "dataframe_hash         function    <function dataframe_hash at 0x000001FBF48667A0>\n",
      "dtypes_str             function    <function dtypes_str at 0x000001FBF4866DE0>\n",
      "get_dataframes         function    <function get_dataframes at 0x000001FBF7EEE520>\n",
      "getpass                module      <module 'getpass' from 'C<...>conda3\\\\Lib\\\\getpass.py'>\n",
      "hashlib                module      <module 'hashlib' from 'C<...>conda3\\\\Lib\\\\hashlib.py'>\n",
      "import_pandas_safely   function    <function import_pandas_s<...>ly at 0x000001FBF4BEE020>\n",
      "is_data_frame          function    <function is_data_frame at 0x000001FBF4BED620>\n",
      "json                   module      <module 'json' from 'C:\\\\<...>\\Lib\\\\json\\\\__init__.py'>\n",
      "x                      int         2\n",
      "y                      float       4.5\n",
      "z                      str         Navdeep\n"
     ]
    }
   ],
   "source": [
    "%whos"
   ]
  },
  {
   "cell_type": "markdown",
   "id": "4c3a4050-325a-4c97-8d0f-087e034d25c1",
   "metadata": {},
   "source": [
    "## Operators : \n",
    "\n"
   ]
  },
  {
   "cell_type": "markdown",
   "id": "81dd9474-1df1-470c-8027-8374454aee26",
   "metadata": {},
   "source": [
    "In Python programming , Operators in general are used to perform operations on values and variables. These are standard symbols used for the purpose of logical and arithmetic operations. In this article , we will look into diffrent tyoes of python operators.\n",
    "\n",
    "##### Operators :\n",
    "- These are the special symbols. Eg + , - , * , / etc\n",
    "\n",
    "##### Operand : \n",
    "- It is the value on which the operator is applied. "
   ]
  },
  {
   "cell_type": "code",
   "execution_count": 58,
   "id": "672a371c-aa04-4e2a-bb0a-71c7314bbb73",
   "metadata": {},
   "outputs": [
    {
     "name": "stdout",
     "output_type": "stream",
     "text": [
      "8\n",
      "2\n"
     ]
    }
   ],
   "source": [
    "a = 5 \n",
    "b = 3\n",
    "print(a + b)\n",
    "print(a - b)"
   ]
  },
  {
   "cell_type": "code",
   "execution_count": 62,
   "id": "4b70028b-e554-4eaa-823b-37e8cdbe206b",
   "metadata": {},
   "outputs": [
    {
     "name": "stdout",
     "output_type": "stream",
     "text": [
      "11.6\n",
      "-1.5999999999999996\n"
     ]
    }
   ],
   "source": [
    "a = 5 \n",
    "b = 6.6\n",
    "print(a + b)\n",
    "print(a - b)"
   ]
  },
  {
   "cell_type": "code",
   "execution_count": 64,
   "id": "99ac426b-b802-4324-9b47-919550afdf50",
   "metadata": {},
   "outputs": [
    {
     "name": "stdout",
     "output_type": "stream",
     "text": [
      "(11.6+3j)\n",
      "(-1.5999999999999996+3j)\n"
     ]
    }
   ],
   "source": [
    "a = 5 + 3j \n",
    "b = 6.6\n",
    "print(a + b)\n",
    "print(a - b)"
   ]
  },
  {
   "cell_type": "code",
   "execution_count": 56,
   "id": "5f031df3-94e6-45f2-bd82-201ecb527d50",
   "metadata": {},
   "outputs": [
    {
     "name": "stdout",
     "output_type": "stream",
     "text": [
      "Hello Students\n"
     ]
    }
   ],
   "source": [
    "a = \"Hello\"\n",
    "b = \"Students\"\n",
    "print(a + \" \" + b)"
   ]
  },
  {
   "cell_type": "code",
   "execution_count": 68,
   "id": "479a1b6c-75a9-4e11-ad0f-d2a040daa96c",
   "metadata": {},
   "outputs": [
    {
     "name": "stdout",
     "output_type": "stream",
     "text": [
      "19.727925000000003\n"
     ]
    }
   ],
   "source": [
    "a = 5.565\n",
    "b = 3.545\n",
    "print(a * b)"
   ]
  },
  {
   "cell_type": "code",
   "execution_count": 70,
   "id": "992225d6-7072-4d23-98d7-390c851a0fe2",
   "metadata": {},
   "outputs": [
    {
     "name": "stdout",
     "output_type": "stream",
     "text": [
      "2.2222222222222223\n"
     ]
    }
   ],
   "source": [
    "a = 10\n",
    "b = 4.5\n",
    "print(a/b)"
   ]
  },
  {
   "cell_type": "code",
   "execution_count": 72,
   "id": "5cc9464f-8ab8-4169-8d4e-98a7033352ce",
   "metadata": {},
   "outputs": [
    {
     "name": "stdout",
     "output_type": "stream",
     "text": [
      "2\n"
     ]
    }
   ],
   "source": [
    "# Modulus - Use to find remainder\n",
    "a = 5\n",
    "b = 3\n",
    "print(a % b)"
   ]
  },
  {
   "cell_type": "code",
   "execution_count": 76,
   "id": "d4c0b03a-3544-4f45-91da-98fbd1d38177",
   "metadata": {},
   "outputs": [
    {
     "name": "stdout",
     "output_type": "stream",
     "text": [
      "69083247070676246965500655442602588470386177944426861709386039054717896971369876648517132858215378299858014929473544423284049202339162111736380854340866738919676249319818079392820353171374562629404429382608906981898859455962665682393515881553468597235990186407116434227157816621513558091877778415087118588846075245258184846877923014813533952615015696312778888440457141216346690955013061428989213468367950955923715915776\n"
     ]
    }
   ],
   "source": [
    "# Exponent\n",
    "a = 41234556\n",
    "print(a ** 55)"
   ]
  },
  {
   "cell_type": "code",
   "execution_count": 82,
   "id": "f5d0300b-43da-4c9a-9752-99465cbaf607",
   "metadata": {},
   "outputs": [
    {
     "name": "stdout",
     "output_type": "stream",
     "text": [
      "1567341.8076417868\n"
     ]
    }
   ],
   "source": [
    "a = ((345) * (4543)) + (44.45 / 3532.42) * 541\n",
    "print(a)"
   ]
  },
  {
   "cell_type": "code",
   "execution_count": 84,
   "id": "bfa5403e-872e-4b34-9a2d-b13419307e89",
   "metadata": {},
   "outputs": [
    {
     "name": "stdout",
     "output_type": "stream",
     "text": [
      "False\n"
     ]
    }
   ],
   "source": [
    "a = True\n",
    "b = False\n",
    "print(a and b)"
   ]
  },
  {
   "cell_type": "code",
   "execution_count": 86,
   "id": "d7e42335-bdb1-4362-ab25-5f77ce954867",
   "metadata": {},
   "outputs": [
    {
     "name": "stdout",
     "output_type": "stream",
     "text": [
      "True\n"
     ]
    }
   ],
   "source": [
    "a = True\n",
    "b = False\n",
    "print(a or b)"
   ]
  },
  {
   "cell_type": "code",
   "execution_count": 90,
   "id": "12bae6d9-8958-4b96-8771-0acc4a81f74a",
   "metadata": {},
   "outputs": [
    {
     "name": "stdout",
     "output_type": "stream",
     "text": [
      "True\n"
     ]
    }
   ],
   "source": [
    "a = True\n",
    "b = False\n",
    "print(not b)"
   ]
  }
 ],
 "metadata": {
  "kernelspec": {
   "display_name": "Python [conda env:base] *",
   "language": "python",
   "name": "conda-base-py"
  },
  "language_info": {
   "codemirror_mode": {
    "name": "ipython",
    "version": 3
   },
   "file_extension": ".py",
   "mimetype": "text/x-python",
   "name": "python",
   "nbconvert_exporter": "python",
   "pygments_lexer": "ipython3",
   "version": "3.12.7"
  }
 },
 "nbformat": 4,
 "nbformat_minor": 5
}
