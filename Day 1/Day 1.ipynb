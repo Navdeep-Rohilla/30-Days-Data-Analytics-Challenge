{
 "cells": [
  {
   "cell_type": "markdown",
   "id": "d79b34b0-2567-421b-a51e-188a906c3802",
   "metadata": {},
   "source": [
    "# Life Cycle of a Project\n",
    "##### 1) Understanding the Business Problem\n",
    "##### 2) Preparing the data\n",
    "##### 3) Exploratory Data Analysis(EDA)\n",
    "##### 4) Modeling the data \n",
    "##### 5) Evaluating the model\n",
    "##### 6) Deploying the model\n",
    "\n",
    "### Algorithm:\n",
    "An algorithm is a step by step procedure , which defines a set of instructions to be executed in a certain order to get the desired output. Algorithms are generally created independent of underlying languages ie an algorithm can be implemented in more than one programming language.\n",
    "\n",
    "### Flowchart:\n",
    "A flowchart is a diagrammatic representation of an algorithm. A flowchart can be helpful for both writing programs and explaining the program to others. Programmers often use it as a program planning tool to solve a problem. It makes use of symbols which are connected among them to indicate the flow of information and processing.\n",
    "\n",
    "### Pseudo Code: \n",
    "Pseudo code is a term which is often used in programming and algorithm based fields. It is a methadology that allows thr programmer to replresent the implementation of an algorithm. Simply , we can say that it's the cooked up representation of an algorithm.\n",
    "Often at times , algorithms are represented with the help of pseudo code as they can be interpreted by programmers no matter what their programming background or knowledge is . Pseudo code , as the name suggests , is a false code or a representation of code which can be understood by even a layman with some school level programming knowledge.\n",
    "\n",
    "### Why Python is essential for Data Analytics / Science / Engineering?\n",
    "- It uses elegant syntax , hence the programming is easier to read\n",
    "- It is an easy to access language.\n",
    "- The large standard library and community support for mathematics and data science puposes.\n",
    "- Python's interactive mode makes it easy to evaluate codes.\n",
    "- Python is a powerful language that can be integrated into programs to provide a customizable interface.\n",
    "- It allows developers to run the code on Windows , MacOS , UNIX and Linux.\n",
    "- It is open sourse interpretted , high level language . Use , download and program addition of pythons are all free of charge.\n",
    "\n",
    "### What is an IDE?\n",
    "An IDE , or integrated development environment , enables programmers to consolidate the diffrent aspects of writing a computer program.\n",
    "An integrated development environment (IDE) is software for building applications that combines common developer tools into a single graphical user Interface (GUI).\n",
    "IDE's increase programmer productivity by combining common activities of writing software into a single application: editing source code , building executables , and debugging.\n",
    "\n",
    "### Jupyter Notebook \n",
    "The Jupyter Notebook is the original web application for creating and sharing computational documents. It offers a simple , streamlined , document , document-centric experience.\n",
    "It is an interative computational environment in which you can combine code execution , rich text , mathematics , plots and rich media."
   ]
  },
  {
   "cell_type": "markdown",
   "id": "5ce870d2-357c-4159-9956-9fa162af4bcf",
   "metadata": {},
   "source": [
    "# Python "
   ]
  },
  {
   "cell_type": "code",
   "execution_count": 12,
   "id": "d8c30540-a8f7-45a2-bb10-86e213f15a01",
   "metadata": {},
   "outputs": [
    {
     "name": "stdout",
     "output_type": "stream",
     "text": [
      "hello world. This is an amazing python class\n"
     ]
    }
   ],
   "source": [
    "print(\"hello world. This is an amazing python class\")"
   ]
  },
  {
   "cell_type": "code",
   "execution_count": 16,
   "id": "3aef9ef2-7add-4bc7-ab77-fa12578e668c",
   "metadata": {},
   "outputs": [
    {
     "name": "stdout",
     "output_type": "stream",
     "text": [
      "117\n"
     ]
    }
   ],
   "source": [
    "print(32+85)"
   ]
  },
  {
   "cell_type": "code",
   "execution_count": null,
   "id": "1833e05a-b7f6-4faf-9004-1f0df515e0e7",
   "metadata": {},
   "outputs": [],
   "source": []
  }
 ],
 "metadata": {
  "kernelspec": {
   "display_name": "Python [conda env:base] *",
   "language": "python",
   "name": "conda-base-py"
  },
  "language_info": {
   "codemirror_mode": {
    "name": "ipython",
    "version": 3
   },
   "file_extension": ".py",
   "mimetype": "text/x-python",
   "name": "python",
   "nbconvert_exporter": "python",
   "pygments_lexer": "ipython3",
   "version": "3.12.7"
  }
 },
 "nbformat": 4,
 "nbformat_minor": 5
}
